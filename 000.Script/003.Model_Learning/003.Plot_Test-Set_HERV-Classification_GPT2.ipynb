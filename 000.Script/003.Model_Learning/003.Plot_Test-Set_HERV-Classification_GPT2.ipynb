{
 "cells": [
  {
   "cell_type": "markdown",
   "metadata": {},
   "source": [
    "### 数据读取"
   ]
  },
  {
   "cell_type": "code",
   "execution_count": null,
   "metadata": {},
   "outputs": [],
   "source": [
    "import pandas as pd\n",
    "import os\n",
    "from datasets import Dataset, DatasetDict \n",
    "from collections import Counter\n",
    "\n",
    "file=\"/home/u20111010010/Project/DNA-Pretraining/Level1/001.Genomics_dataset/Dataset_HERV/VCF_hprc-1000G/Train_Test/data_all_model_HERV-Classification_Need.fa\"\n",
    "df1=pd.read_csv(file,sep=\"\\t\",header=None).rename(columns = {0: \"dset\", 1: \"multi\",2:\"binary\", 3: \"seq\",4:\"Type\",5: \"detail\"})\n",
    "df = df1.loc[:, ['dset', 'multi','seq']]\n",
    "df = df[df['dset'] == 'test']\n",
    "\n",
    "print(\"+++++++++++++++++++++++++++++Test sets\")\n",
    "print(df.shape)\n",
    "\n",
    "\n",
    "### label间转换\n",
    "id2label={\"0\":\"Non-HERV_Coding\",\"1\":\"HERV_Coding\",\"2\":\"Non-HERV_Non-Coding\",\"3\":\"HERV_Non-Coding\"}\n",
    "labels_raw=list(df['multi'])\n",
    "labels = [id2label[str(i)] for i in labels_raw]\n",
    "\n",
    "print(Counter(labels))\n",
    "\n",
    "sequences=list(df['seq'])"
   ]
  },
  {
   "cell_type": "code",
   "execution_count": null,
   "metadata": {},
   "outputs": [],
   "source": [
    "dataset_name=\"GPT2_HERV_Multi_RUN0\"\n",
    "output_dir=\"/home/u20111010010/Project/DNA-Pretraining/Level1/003.Sequence_Visualization/Dataset_HERV\""
   ]
  },
  {
   "cell_type": "markdown",
   "metadata": {},
   "source": [
    "### 模型学习到的特征"
   ]
  },
  {
   "cell_type": "code",
   "execution_count": null,
   "metadata": {},
   "outputs": [],
   "source": [
    "from transformers import AutoModel, AutoTokenizer\n",
    "import torch\n",
    "import numpy as np\n",
    "from sklearn.decomposition import PCA\n",
    "from sklearn.manifold import TSNE\n",
    "import matplotlib.pyplot as plt\n",
    "import seaborn as sns\n",
    "from mpl_toolkits.mplot3d import Axes3D\n",
    "from sklearn.preprocessing import LabelEncoder\n",
    "\n",
    "# 检查是否有可用的GPU\n",
    "device = torch.device(\"cuda\" if torch.cuda.is_available() else \"cpu\")\n",
    "\n",
    "# 初始化模型和分词器，并将模型移动到GPU上\n",
    "model_name = \"/home/u20111010010/Project/DNA-Pretraining/Level1/002.Model_Classification/Dataset_HERV/Model/GPT2_HERV_Multi_RUN0\"\n",
    "model = AutoModel.from_pretrained(model_name).to(device)\n",
    "tokenizer = AutoTokenizer.from_pretrained(model_name)\n",
    "tokenizer.pad_token = tokenizer.eos_token #分词\n",
    "\n",
    "\n",
    "# 特征提取\n",
    "def extract_features(model, tokenizer, sequences, batch_size=5):\n",
    "    \"\"\"\n",
    "    使用给定的模型和分词器从序列中提取特征，分批进行预测。\n",
    "    :param model: 使用的模型\n",
    "    :param tokenizer: 使用的分词器\n",
    "    :param sequences: 序列列表\n",
    "    :param batch_size: 每个批次的序列数量\n",
    "    :return: 所有序列的特征数组\n",
    "    \"\"\"\n",
    "    features = []\n",
    "    for i in range(0, len(sequences), batch_size):  # 每batch_size个序列进行一次预测\n",
    "        batch_sequences = sequences[i:i+batch_size]\n",
    "\n",
    "        # 批量编码\n",
    "        inputs = tokenizer(batch_sequences, return_tensors=\"pt\", truncation=True, padding=True,max_length=1024).to(device)\n",
    "\n",
    "        outputs = model(**inputs)\n",
    "        #.mean(dim=1): 计算了 last_hidden_state 中每个样本（通常代表一个文本序列）的平均值。具体来说，dim=1 指定了在第一个维度上进行平均，通常这个维度是代表序列中的单词或标记的维度。\n",
    "        feature = outputs.last_hidden_state.mean(dim=1).detach().cpu().numpy()\n",
    "        features.append(feature)\n",
    "    return np.concatenate(features, axis=0)\n",
    "\n",
    "\n",
    "### 行数等于输入序列的数量,列数等于模型的last_hidden_state中的特征数量(768)\n",
    "X = extract_features(model, tokenizer, sequences)\n",
    "np.save(os.path.join(output_dir, \"GPT2_HERV_Multi_RUN0_extract_features.npy\"), X)"
   ]
  },
  {
   "cell_type": "code",
   "execution_count": null,
   "metadata": {},
   "outputs": [],
   "source": [
    "#X = np.load(\"/home/u20111010010/Project/DNA-Pretraining/Level1/003.Sequence_Visualization/Dataset_HERV/GPT2_HERV_Multi_RUN0_extract_features.npy\")\n",
    "# 自定义title和文件名\n",
    "title_pca = f\"{dataset_name} PCA Visualization\"\n",
    "title_tsne = f\"{dataset_name} t-SNE Visualization\"\n",
    "\n",
    "### 2D\n",
    "filename_pca_pdf = os.path.join(output_dir, f\"{dataset_name}_pca_visualization.pdf\")\n",
    "filename_pca_png = os.path.join(output_dir, f\"{dataset_name}_pca_visualization.png\")\n",
    "filename_tsne_pdf = os.path.join(output_dir, f\"{dataset_name}_tsne_visualization.pdf\")\n",
    "filename_tsne_png = os.path.join(output_dir, f\"{dataset_name}_tsne_visualization.png\")"
   ]
  },
  {
   "cell_type": "code",
   "execution_count": null,
   "metadata": {},
   "outputs": [],
   "source": [
    "'''\n",
    "# PCA降维并可视化\n",
    "pca = PCA(n_components=10)\n",
    "X_pca = pca.fit_transform(X)\n",
    "sns.scatterplot(x=X_pca[:, 0], y=X_pca[:, 1],hue=labels, palette=\"deep\")\n",
    "plt.title(title_pca)\n",
    "plt.legend(loc='upper right')\n",
    "\n",
    "plt.savefig(filename_pca_pdf)\n",
    "plt.savefig(filename_pca_png)\n",
    "plt.show()\n",
    "#plt.clf()  # 清除当前图形\n",
    "\n",
    "# t-SNE降维并可视化\n",
    "tsne = TSNE(n_components=2)\n",
    "X_tsne = tsne.fit_transform(X)\n",
    "\n",
    "plt.figure()  \n",
    "sns.scatterplot(x=X_tsne[:, 0], y=X_tsne[:, 1],hue=labels, palette=\"deep\")\n",
    "plt.title(title_tsne)\n",
    "plt.legend(loc='upper right')\n",
    "plt.savefig(filename_tsne_pdf)\n",
    "plt.savefig(filename_tsne_png)\n",
    "plt.show()\n",
    "'''"
   ]
  },
  {
   "cell_type": "code",
   "execution_count": null,
   "metadata": {},
   "outputs": [],
   "source": [
    "def HERV_scatterplot(X_pca, labels, title_pca, filename_pca_pdf, filename_pca_png):\n",
    "    # 颜色设置\n",
    "    # 获取 \"deep\" 调色板的前四个颜色: 深蓝色；橙色；绿色；红色\n",
    "    colors = sns.color_palette(\"deep\", 4) \n",
    "    # 定义标签到颜色的映射\n",
    "    id2color = {\n",
    "        'Non-HERV_Coding': colors[0],\n",
    "        'HERV_Coding': colors[1],\n",
    "        'HERV_Non-Coding': colors[2],\n",
    "        'Non-HERV_Non-Coding': colors[3]\n",
    "    }\n",
    "    # 绘制散点图\n",
    "    ax = sns.scatterplot(x=X_pca[:, 0], y=X_pca[:, 1], hue=labels, palette=id2color, size=0.2, legend='auto')\n",
    "    # 手动添加图例\n",
    "    handles, labels_plot = ax.get_legend_handles_labels()\n",
    "    # 除去最后一个图例项\n",
    "    plt.legend(handles=handles[:-1], labels=labels_plot[:-1], loc='upper right')\n",
    "    plt.title(title_pca)\n",
    "    # 保存图像\n",
    "    plt.savefig(filename_pca_pdf)\n",
    "    plt.savefig(filename_pca_png)\n",
    "    # 显示图像\n",
    "    plt.show()\n",
    "    plt.clf()\n",
    "# 示例调用\n",
    "# PCA降维并可视化\n",
    "pca = PCA(n_components=10)\n",
    "X_pca = pca.fit_transform(X)\n",
    "HERV_scatterplot(X_pca,labels, title_pca, filename_pca_pdf, filename_pca_png)\n",
    "\n",
    "# t-SNE降维并可视化\n",
    "tsne = TSNE(n_components=2)\n",
    "X_tsne = tsne.fit_transform(X)\n",
    "HERV_scatterplot(X_tsne,labels, title_tsne, filename_tsne_pdf, filename_tsne_png)"
   ]
  },
  {
   "cell_type": "code",
   "execution_count": null,
   "metadata": {},
   "outputs": [],
   "source": []
  }
 ],
 "metadata": {
  "kernelspec": {
   "display_name": "Python 3",
   "language": "python",
   "name": "python3"
  },
  "language_info": {
   "name": "python",
   "version": "3.1.0"
  },
  "orig_nbformat": 4
 },
 "nbformat": 4,
 "nbformat_minor": 2
}
